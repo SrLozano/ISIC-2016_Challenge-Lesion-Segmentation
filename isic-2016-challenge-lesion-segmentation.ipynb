{
 "cells": [
  {
   "cell_type": "markdown",
   "id": "f35b8767",
   "metadata": {
    "papermill": {
     "duration": 0.00341,
     "end_time": "2022-10-06T17:11:40.584563",
     "exception": false,
     "start_time": "2022-10-06T17:11:40.581153",
     "status": "completed"
    },
    "tags": []
   },
   "source": [
    "# **ISIC 2016 Challenge - Lesion Segmentation**"
   ]
  },
  {
   "cell_type": "markdown",
   "id": "ffddf7e5",
   "metadata": {
    "papermill": {
     "duration": 0.001978,
     "end_time": "2022-10-06T17:11:40.589020",
     "exception": false,
     "start_time": "2022-10-06T17:11:40.587042",
     "status": "completed"
    },
    "tags": []
   },
   "source": [
    "# **Imports and data loading**"
   ]
  },
  {
   "cell_type": "code",
   "execution_count": 1,
   "id": "b9b5e2df",
   "metadata": {
    "_cell_guid": "b1076dfc-b9ad-4769-8c92-a6c4dae69d19",
    "_uuid": "8f2839f25d086af736a60e9eeb907d3b93b6e0e5",
    "execution": {
     "iopub.execute_input": "2022-10-06T17:11:40.596386Z",
     "iopub.status.busy": "2022-10-06T17:11:40.595252Z",
     "iopub.status.idle": "2022-10-06T17:11:41.313618Z",
     "shell.execute_reply": "2022-10-06T17:11:41.312362Z"
    },
    "papermill": {
     "duration": 0.725631,
     "end_time": "2022-10-06T17:11:41.316965",
     "exception": false,
     "start_time": "2022-10-06T17:11:40.591334",
     "status": "completed"
    },
    "tags": []
   },
   "outputs": [],
   "source": [
    "import numpy as np # linear algebra\n",
    "import pandas as pd # data processing, CSV file I/O\n",
    "import os # os functionalities\n",
    "from skimage import io  # image manipulation"
   ]
  },
  {
   "cell_type": "code",
   "execution_count": 2,
   "id": "43f55045",
   "metadata": {
    "execution": {
     "iopub.execute_input": "2022-10-06T17:11:41.323563Z",
     "iopub.status.busy": "2022-10-06T17:11:41.323141Z",
     "iopub.status.idle": "2022-10-06T17:11:41.378893Z",
     "shell.execute_reply": "2022-10-06T17:11:41.377705Z"
    },
    "papermill": {
     "duration": 0.062399,
     "end_time": "2022-10-06T17:11:41.381961",
     "exception": false,
     "start_time": "2022-10-06T17:11:41.319562",
     "status": "completed"
    },
    "tags": []
   },
   "outputs": [
    {
     "name": "stdout",
     "output_type": "stream",
     "text": [
      "The shape of the pictures in the training set is: (767, 1022, 3)\n"
     ]
    }
   ],
   "source": [
    "# Variable declaration\n",
    "input_dir = \"../input/isic-2016-challenge-lesion-segmentation/ISBI2016_ISIC_Part1_Training_Data/ISBI2016_ISIC_Part1_Training_Data\"\n",
    "target_dir = \"../input/isic-2016-challenge-lesion-segmentation/ISBI2016_ISIC_Part1_Training_GroundTruth/ISBI2016_ISIC_Part1_Training_GroundTruth\"\n",
    "\n",
    "# Read training images and get their shape\n",
    "img1 = io.imread(f'{input_dir}/ISIC_0000000.jpg')\n",
    "img_shape = np.shape(img1)\n",
    "print(f\"The shape of the pictures in the training set is: {img_shape}\")\n",
    "\n",
    "img_size = img_shape[0:2]\n",
    "#num_classes = 3\n",
    "batch_size = 32"
   ]
  },
  {
   "cell_type": "code",
   "execution_count": 3,
   "id": "d86e3545",
   "metadata": {
    "execution": {
     "iopub.execute_input": "2022-10-06T17:11:41.389363Z",
     "iopub.status.busy": "2022-10-06T17:11:41.388361Z",
     "iopub.status.idle": "2022-10-06T17:11:41.587204Z",
     "shell.execute_reply": "2022-10-06T17:11:41.585504Z"
    },
    "papermill": {
     "duration": 0.205003,
     "end_time": "2022-10-06T17:11:41.589657",
     "exception": false,
     "start_time": "2022-10-06T17:11:41.384654",
     "status": "completed"
    },
    "tags": []
   },
   "outputs": [
    {
     "name": "stdout",
     "output_type": "stream",
     "text": [
      "Number of samples in the training set: 900\n",
      "Number of samples in the target set: 900\n"
     ]
    }
   ],
   "source": [
    "# Get paths to the training and target images\n",
    "input_img_paths = sorted([\n",
    "    os.path.join(input_dir, fname)\n",
    "    for fname in os.listdir(input_dir)\n",
    "    if fname.endswith(\".jpg\")])\n",
    "\n",
    "target_img_paths = sorted([\n",
    "    os.path.join(target_dir, fname)\n",
    "    for fname in os.listdir(target_dir)\n",
    "    if fname.endswith(\".png\") and not fname.startswith(\".\")])\n",
    "\n",
    "# Check if dimentions are equal\n",
    "print(\"Number of samples in the training set:\", len(input_img_paths))\n",
    "print(\"Number of samples in the target set:\", len(target_img_paths))"
   ]
  },
  {
   "cell_type": "code",
   "execution_count": 4,
   "id": "02aff191",
   "metadata": {
    "execution": {
     "iopub.execute_input": "2022-10-06T17:11:41.596921Z",
     "iopub.status.busy": "2022-10-06T17:11:41.596406Z",
     "iopub.status.idle": "2022-10-06T17:11:41.606570Z",
     "shell.execute_reply": "2022-10-06T17:11:41.605256Z"
    },
    "papermill": {
     "duration": 0.016544,
     "end_time": "2022-10-06T17:11:41.608911",
     "exception": false,
     "start_time": "2022-10-06T17:11:41.592367",
     "status": "completed"
    },
    "tags": []
   },
   "outputs": [
    {
     "data": {
      "text/plain": [
       "'batch_size = 8\\ndatagen_train = tf.keras.preprocessing.image.ImageDataGenerator(rescale=1.0/255.0)\\ntrain_it_ret = datagen_train.flow_from_directory(input_dir, batch_size=batch_size)'"
      ]
     },
     "execution_count": 4,
     "metadata": {},
     "output_type": "execute_result"
    }
   ],
   "source": [
    "'''batch_size = 8\n",
    "datagen_train = tf.keras.preprocessing.image.ImageDataGenerator(rescale=1.0/255.0)\n",
    "train_it_ret = datagen_train.flow_from_directory(input_dir, batch_size=batch_size)'''"
   ]
  }
 ],
 "metadata": {
  "kernelspec": {
   "display_name": "Python 3",
   "language": "python",
   "name": "python3"
  },
  "language_info": {
   "codemirror_mode": {
    "name": "ipython",
    "version": 3
   },
   "file_extension": ".py",
   "mimetype": "text/x-python",
   "name": "python",
   "nbconvert_exporter": "python",
   "pygments_lexer": "ipython3",
   "version": "3.7.12"
  },
  "papermill": {
   "default_parameters": {},
   "duration": 12.494497,
   "end_time": "2022-10-06T17:11:42.337624",
   "environment_variables": {},
   "exception": null,
   "input_path": "__notebook__.ipynb",
   "output_path": "__notebook__.ipynb",
   "parameters": {},
   "start_time": "2022-10-06T17:11:29.843127",
   "version": "2.3.4"
  }
 },
 "nbformat": 4,
 "nbformat_minor": 5
}
